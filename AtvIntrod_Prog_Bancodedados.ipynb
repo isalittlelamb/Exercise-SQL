{
  "nbformat": 4,
  "nbformat_minor": 0,
  "metadata": {
    "colab": {
      "provenance": [],
      "authorship_tag": "ABX9TyPRSiRce072Yxupec3wKCqd",
      "include_colab_link": true
    },
    "kernelspec": {
      "name": "python3",
      "display_name": "Python 3"
    },
    "language_info": {
      "name": "python"
    }
  },
  "cells": [
    {
      "cell_type": "markdown",
      "metadata": {
        "id": "view-in-github",
        "colab_type": "text"
      },
      "source": [
        "<a href=\"https://colab.research.google.com/github/isalittlelamb/Exercise-SQL/blob/main/AtvIntrod_Prog_Bancodedados.ipynb\" target=\"_parent\"><img src=\"https://colab.research.google.com/assets/colab-badge.svg\" alt=\"Open In Colab\"/></a>"
      ]
    },
    {
      "cell_type": "code",
      "execution_count": 1,
      "metadata": {
        "colab": {
          "base_uri": "https://localhost:8080/"
        },
        "id": "G7SBDwokK_6M",
        "outputId": "24ed2342-fafe-4e68-85f6-0b1e00b77898"
      },
      "outputs": [
        {
          "output_type": "stream",
          "name": "stdout",
          "text": [
            "   Questao 1  Questao 2  Questao 3  Questao 4  Questao 5  Questao 6  \\\n",
            "0       0.50       0.75       0.55       0.75       0.50       0.50   \n",
            "1       0.40       0.70       0.70       1.00       0.45       0.45   \n",
            "2       0.30       0.65       0.75       0.80       0.40       0.40   \n",
            "3       0.20       0.60       0.70       0.90       0.45       0.40   \n",
            "4       0.45       0.45       0.75       0.85       0.50       0.50   \n",
            "\n",
            "   Questao 7  Questao 8  Questao 9  Questao 10  Questao 11  Questao 12  \\\n",
            "0        1.0       0.50       0.50        0.50        0.25        0.15   \n",
            "1        1.0       0.45       0.45        0.45        0.46        0.50   \n",
            "2        0.9       0.40       0.40        0.40        0.44        0.40   \n",
            "3        0.8       0.50       0.45        0.50        0.45        0.45   \n",
            "4        0.7       0.45       0.50        0.45        0.50        0.40   \n",
            "\n",
            "   Questao 13  Questao 14  Questao 15  Questao 16  Questao 17  \n",
            "0        0.40        0.30         0.1        0.00        0.40  \n",
            "1        0.30        0.50         0.5        0.50        0.50  \n",
            "2        0.40        0.45         0.4        0.45        0.40  \n",
            "3        0.45        0.50         0.3        0.40        0.45  \n",
            "4        0.50        0.50         0.2        0.30        0.50  \n"
          ]
        }
      ],
      "source": [
        "import pandas as pd\n",
        "\n",
        "# Ler arquivo CSV\n",
        "df = pd.read_csv('/arquivoCVSparatrabalho.csv')\n",
        "\n",
        "# Exibir os dados\n",
        "print(df.head())"
      ]
    },
    {
      "cell_type": "code",
      "source": [
        "import pandas as pd\n",
        "\n",
        "# Ler arquivo CSV\n",
        "df = pd.read_csv('/arquivoCVSparatrabalho.csv')\n",
        "\n",
        "# Calcular a nota total de cada aluno e adicionar uma nova coluna ao DataFrame\n",
        "df['Nota Total'] = df.iloc[:, 1:].sum(axis=1)\n",
        "\n",
        "# Exibir os dados\n",
        "print(df.head())"
      ],
      "metadata": {
        "colab": {
          "base_uri": "https://localhost:8080/"
        },
        "id": "zc0DhQudLlQl",
        "outputId": "094fcabc-7bd9-444d-8122-775ba8a14487"
      },
      "execution_count": 3,
      "outputs": [
        {
          "output_type": "stream",
          "name": "stdout",
          "text": [
            "   Questao 1  Questao 2  Questao 3  Questao 4  Questao 5  Questao 6  \\\n",
            "0       0.50       0.75       0.55       0.75       0.50       0.50   \n",
            "1       0.40       0.70       0.70       1.00       0.45       0.45   \n",
            "2       0.30       0.65       0.75       0.80       0.40       0.40   \n",
            "3       0.20       0.60       0.70       0.90       0.45       0.40   \n",
            "4       0.45       0.45       0.75       0.85       0.50       0.50   \n",
            "\n",
            "   Questao 7  Questao 8  Questao 9  Questao 10  Questao 11  Questao 12  \\\n",
            "0        1.0       0.50       0.50        0.50        0.25        0.15   \n",
            "1        1.0       0.45       0.45        0.45        0.46        0.50   \n",
            "2        0.9       0.40       0.40        0.40        0.44        0.40   \n",
            "3        0.8       0.50       0.45        0.50        0.45        0.45   \n",
            "4        0.7       0.45       0.50        0.45        0.50        0.40   \n",
            "\n",
            "   Questao 13  Questao 14  Questao 15  Questao 16  Questao 17  Nota Total  \n",
            "0        0.40        0.30         0.1        0.00        0.40        7.15  \n",
            "1        0.30        0.50         0.5        0.50        0.50        8.91  \n",
            "2        0.40        0.45         0.4        0.45        0.40        8.04  \n",
            "3        0.45        0.50         0.3        0.40        0.45        8.30  \n",
            "4        0.50        0.50         0.2        0.30        0.50        8.05  \n"
          ]
        }
      ]
    },
    {
      "cell_type": "code",
      "source": [
        "import pandas as pd\n",
        "\n",
        "# Ler arquivo CSV\n",
        "df = pd.read_csv('/arquivoCVSparatrabalho.csv')\n",
        "\n",
        "# Selecionar apenas as colunas de notas das questões\n",
        "notas = df.iloc[:, 1:]\n",
        "\n",
        "# Exibir as notas de cada aluno em cada questão\n",
        "print(notas)"
      ],
      "metadata": {
        "colab": {
          "base_uri": "https://localhost:8080/"
        },
        "id": "p_BW1I2AMLlK",
        "outputId": "bbe6e504-0b75-45b4-f21c-609b12752f89"
      },
      "execution_count": 5,
      "outputs": [
        {
          "output_type": "stream",
          "name": "stdout",
          "text": [
            "     Questao 2  Questao 3  Questao 4  Questao 5  Questao 6  Questao 7  \\\n",
            "0         0.75       0.55       0.75       0.50       0.50        1.0   \n",
            "1         0.70       0.70       1.00       0.45       0.45        1.0   \n",
            "2         0.65       0.75       0.80       0.40       0.40        0.9   \n",
            "3         0.60       0.70       0.90       0.45       0.40        0.8   \n",
            "4         0.45       0.75       0.85       0.50       0.50        0.7   \n",
            "..         ...        ...        ...        ...        ...        ...   \n",
            "119       0.70       0.70       1.00       0.45       0.45        1.0   \n",
            "120       0.65       0.75       0.80       0.40       0.40        0.9   \n",
            "121       0.60       0.70       0.90       0.45       0.40        0.8   \n",
            "122       0.45       0.75       0.85       0.50       0.50        0.7   \n",
            "123       0.75       0.55       0.75       0.50       0.50        1.0   \n",
            "\n",
            "     Questao 8  Questao 9  Questao 10  Questao 11  Questao 12  Questao 13  \\\n",
            "0         0.50       0.50        0.50        0.25        0.15        0.40   \n",
            "1         0.45       0.45        0.45        0.46        0.50        0.30   \n",
            "2         0.40       0.40        0.40        0.44        0.40        0.40   \n",
            "3         0.50       0.45        0.50        0.45        0.45        0.45   \n",
            "4         0.45       0.50        0.45        0.50        0.40        0.50   \n",
            "..         ...        ...         ...         ...         ...         ...   \n",
            "119       0.45       0.45        0.45        0.46        0.50        0.30   \n",
            "120       0.40       0.40        0.40        0.44        0.40        0.40   \n",
            "121       0.50       0.45        0.50        0.45        0.45        0.45   \n",
            "122       0.45       0.50        0.45        0.50        0.40        0.50   \n",
            "123       0.50       0.50        0.50        0.25        0.15        0.40   \n",
            "\n",
            "     Questao 14  Questao 15  Questao 16  Questao 17  \n",
            "0          0.30         0.1        0.00        0.40  \n",
            "1          0.50         0.5        0.50        0.50  \n",
            "2          0.45         0.4        0.45        0.40  \n",
            "3          0.50         0.3        0.40        0.45  \n",
            "4          0.50         0.2        0.30        0.50  \n",
            "..          ...         ...         ...         ...  \n",
            "119        0.50         0.5        0.50        0.50  \n",
            "120        0.45         0.4        0.45        0.40  \n",
            "121        0.50         0.3        0.40        0.45  \n",
            "122        0.50         0.2        0.30        0.50  \n",
            "123        0.30         0.1        0.00        0.40  \n",
            "\n",
            "[124 rows x 16 columns]\n"
          ]
        }
      ]
    },
    {
      "cell_type": "code",
      "source": [
        "import pandas as pd\n",
        "\n",
        "# Ler arquivo CSV\n",
        "df = pd.read_csv('/arquivoCVSparatrabalho.csv')\n",
        "\n",
        "# Calcular a nota total de cada aluno e adicionar uma nova coluna ao DataFrame\n",
        "df['Nota Total'] = df.iloc[:, 1:].sum(axis=1)\n",
        "\n",
        "# Calcular o desvio padrão e a variância das notas de cada aluno\n",
        "desvio_padrao = df['Nota Total'].std()\n",
        "variancia = df['Nota Total'].var()\n",
        "\n",
        "# Exibir as estatísticas das notas de cada aluno\n",
        "print(\"Desvio padrão das notas: {:.2f}\".format(desvio_padrao))\n",
        "print(\"Variância das notas: {:.2f}\".format(variancia))"
      ],
      "metadata": {
        "colab": {
          "base_uri": "https://localhost:8080/"
        },
        "id": "02f6TAv_Ml9H",
        "outputId": "0531db18-e29d-401c-8933-e9c28d7f9d37"
      },
      "execution_count": 6,
      "outputs": [
        {
          "output_type": "stream",
          "name": "stdout",
          "text": [
            "Desvio padrão das notas: 0.48\n",
            "Variância das notas: 0.23\n"
          ]
        }
      ]
    },
    {
      "cell_type": "code",
      "source": [
        "import pandas as pd\n",
        "\n",
        "# Ler arquivo CSV\n",
        "df = pd.read_csv('/arquivoCVSparatrabalho.csv')\n",
        "\n",
        "# Selecionar as colunas que correspondem às notas de cada questão\n",
        "notas_questoes = df.iloc[:, 1:7]\n",
        "\n",
        "# Exibir as notas dos alunos em cada questão\n",
        "print(notas_questoes)"
      ],
      "metadata": {
        "colab": {
          "base_uri": "https://localhost:8080/"
        },
        "id": "Gc0B8XaZSG6R",
        "outputId": "61fd995d-b639-44ce-cbc2-404d8664b6d0"
      },
      "execution_count": 7,
      "outputs": [
        {
          "output_type": "stream",
          "name": "stdout",
          "text": [
            "     Questao 2  Questao 3  Questao 4  Questao 5  Questao 6  Questao 7\n",
            "0         0.75       0.55       0.75       0.50       0.50        1.0\n",
            "1         0.70       0.70       1.00       0.45       0.45        1.0\n",
            "2         0.65       0.75       0.80       0.40       0.40        0.9\n",
            "3         0.60       0.70       0.90       0.45       0.40        0.8\n",
            "4         0.45       0.75       0.85       0.50       0.50        0.7\n",
            "..         ...        ...        ...        ...        ...        ...\n",
            "119       0.70       0.70       1.00       0.45       0.45        1.0\n",
            "120       0.65       0.75       0.80       0.40       0.40        0.9\n",
            "121       0.60       0.70       0.90       0.45       0.40        0.8\n",
            "122       0.45       0.75       0.85       0.50       0.50        0.7\n",
            "123       0.75       0.55       0.75       0.50       0.50        1.0\n",
            "\n",
            "[124 rows x 6 columns]\n"
          ]
        }
      ]
    }
  ]
}